{
 "cells": [
  {
   "cell_type": "markdown",
   "id": "8ef3012b-2aec-4c00-9b4a-1a35180e8953",
   "metadata": {},
   "source": [
    "<center>\n",
    "    <img src=\"https://cf-courses-data.s3.us.cloud-object-storage.appdomain.cloud/IBMDeveloperSkillsNetwork-DS0105EN-SkillsNetwork/labs/Module2/images/SN_web_lightmode.png\" width=\"300\" alt=\"cognitiveclass.ai logo\">\n",
    "</center>"
   ]
  },
  {
   "cell_type": "markdown",
   "id": "75990f37-c144-49c3-82e9-cde4ef38516a",
   "metadata": {},
   "source": [
    "# Data Science Tools and Ecosystem"
   ]
  },
  {
   "cell_type": "markdown",
   "id": "10efac1d-fec6-41ff-a726-0dc5603eb3d9",
   "metadata": {},
   "source": [
    "*In this notebook, Data Science Tools and Ecosystem are summarized.*"
   ]
  },
  {
   "cell_type": "markdown",
   "id": "e4b7cd49-3b47-4991-9f7c-f42cfe84892f",
   "metadata": {},
   "source": [
    " **Objectives:**\n",
    " - List popular languages for Data Science\n",
    " - List commonly used libraries for Data Science\n",
    " - A table with development environment open source tools used in Data Science\n",
    " - Introduce a few arithmetic expression examples"
   ]
  },
  {
   "cell_type": "markdown",
   "id": "17c8f3ce-7c7a-43be-a2dd-5dd3a3536a3f",
   "metadata": {},
   "source": [
    "**Some of the popular languages that Data Scientists use are:**\n",
    "1. Python\n",
    "2. R\n",
    "3. SQL\n",
    "4. Julia\n",
    "5. Scala\n",
    "6. C++\n",
    "7. Java\n",
    "8. JavaScript\n"
   ]
  },
  {
   "cell_type": "markdown",
   "id": "34d8c05a-2c0c-4f5f-8231-bef29638fb77",
   "metadata": {},
   "source": [
    "**Some of the commonly used libraries used by Data Scientists include:**\n",
    "1. Matplotlib\n",
    "2. NumPy\n",
    "3. Pandas\n",
    "4. TensorFlow\n",
    "5. Plotly\n",
    "6. ggplot2\n",
    "7. Lattice\n",
    "8. Leaflet\n"
   ]
  },
  {
   "cell_type": "code",
   "execution_count": 1,
   "id": "2ee6f94c-5e2c-4629-a5f3-3177e29131fc",
   "metadata": {},
   "outputs": [
    {
     "data": {
      "text/html": [
       "<!--This cell is used to left-align the table \"Data Science Tools\" -->\n",
       "<style>\n",
       "table {float:left}\n",
       "</style>\n"
      ],
      "text/plain": [
       "<IPython.core.display.HTML object>"
      ]
     },
     "metadata": {},
     "output_type": "display_data"
    }
   ],
   "source": [
    "%%html\n",
    "<!--This cell is used to left-align the table \"Data Science Tools\" -->\n",
    "<style>\n",
    "table {float:left}\n",
    "</style>"
   ]
  },
  {
   "cell_type": "markdown",
   "id": "dd37180e-8322-4e2b-8de8-8abe2ffcdf2e",
   "metadata": {},
   "source": [
    "| Data Science Tools |\n",
    "| ------------------ |\n",
    "| Jupyter Lab |\n",
    "| RStudio |\n",
    "| Spyder |"
   ]
  },
  {
   "cell_type": "markdown",
   "id": "47ccd741-986a-400b-8962-4f8dff3f672f",
   "metadata": {},
   "source": [
    "### Below are a few examples of evaluating arithmetic expressions in Python"
   ]
  },
  {
   "cell_type": "code",
   "execution_count": 2,
   "id": "595e786a-39b0-427d-8a3a-fdab747df9ce",
   "metadata": {},
   "outputs": [
    {
     "data": {
      "text/plain": [
       "17"
      ]
     },
     "execution_count": 2,
     "metadata": {},
     "output_type": "execute_result"
    }
   ],
   "source": [
    "# This is a simple arithmetic expression to multiply then add integers\n",
    "(3*4)+5"
   ]
  },
  {
   "cell_type": "code",
   "execution_count": 3,
   "id": "77b7f691-000e-4bd6-b8d1-7f8bf040507b",
   "metadata": {},
   "outputs": [
    {
     "data": {
      "text/plain": [
       "3.3333333333333335"
      ]
     },
     "execution_count": 3,
     "metadata": {},
     "output_type": "execute_result"
    }
   ],
   "source": [
    "# This will convert 200 minutes to hours by dividing by 60\n",
    "200 / 60"
   ]
  },
  {
   "cell_type": "markdown",
   "id": "86c08ce6-c7d5-45d9-8000-903521fad936",
   "metadata": {},
   "source": [
    "## Author\n",
    "Yiqing Zhang"
   ]
  }
 ],
 "metadata": {
  "kernelspec": {
   "display_name": "Python 3 (ipykernel)",
   "language": "python",
   "name": "python3"
  },
  "language_info": {
   "codemirror_mode": {
    "name": "ipython",
    "version": 3
   },
   "file_extension": ".py",
   "mimetype": "text/x-python",
   "name": "python",
   "nbconvert_exporter": "python",
   "pygments_lexer": "ipython3",
   "version": "3.11.8"
  }
 },
 "nbformat": 4,
 "nbformat_minor": 5
}
